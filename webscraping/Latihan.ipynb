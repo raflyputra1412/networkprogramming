{
 "cells": [
  {
   "cell_type": "markdown",
   "metadata": {},
   "source": [
    "NIM           : 170010009\n",
    "\n",
    "NAMA LENGKAP  : Muhammad Rafly Hersa Putra"
   ]
  },
  {
   "cell_type": "markdown",
   "metadata": {},
   "source": [
    "### Latihan\n",
    "\n",
    "Instruksi pengerjaan:\n",
    "- Tulis kode program di tempat yang sudah disediakan\n",
    "- Jangan menambah, menghapus, ataupun memodifikasi kode program yang sudah secara _default_ tersedia."
   ]
  },
  {
   "cell_type": "code",
   "execution_count": 8,
   "metadata": {},
   "outputs": [],
   "source": [
    "# Import library yang diperlukan di sini\n",
    "from urllib.request import urlopen\n",
    "from urllib.error import HTTPError\n",
    "from urllib.error import URLError\n",
    "from bs4 import BeautifulSoup"
   ]
  },
  {
   "cell_type": "code",
   "execution_count": 9,
   "metadata": {},
   "outputs": [],
   "source": [
    "url = {'url1': 'http://www.pythonscraping.com/pages/page1.html',\n",
    "       'url2': 'http://www.pythonscraping.com/pages/warandpeace.html',\n",
    "       'url3': 'http://www.pythonscraping.com/pages/page3.html'}"
   ]
  },
  {
   "cell_type": "code",
   "execution_count": 10,
   "metadata": {},
   "outputs": [
    {
     "name": "stdout",
     "output_type": "stream",
     "text": [
      "<h1>An Interesting Title</h1>\n"
     ]
    }
   ],
   "source": [
    "def read_html(url):\n",
    "    \"\"\" \n",
    "    url         : Website URL yang akan di-parsing\n",
    "    html_parser : Tipe HTML parser yang akan digunakan\n",
    "    \"\"\"\n",
    "    try:\n",
    "        html = urlopen(url)\n",
    "        bsObj = BeautifulSoup(html.read(), 'html.parser')\n",
    "        data = bsObj.body.h1 \n",
    "    except HTTPError as e:\n",
    "        print('The server returned an HTTP error') \n",
    "    except URLError as e:\n",
    "        print('The server could not be found!') \n",
    "    except AttributeError as e:\n",
    "        return None\n",
    "    \n",
    "    return data\n",
    "\n",
    "title = read_html(url['url1'])\n",
    "if title == None:\n",
    "    print('Title could not be found')\n",
    "else:\n",
    "    print(title)"
   ]
  },
  {
   "cell_type": "code",
   "execution_count": 13,
   "metadata": {},
   "outputs": [
    {
     "name": "stdout",
     "output_type": "stream",
     "text": [
      "['Anna\\nPavlovna Scherer', 'Empress Marya\\nFedorovna', 'Prince Vasili Kuragin']\n",
      "['Dowager Empress Marya Fedorovna', 'Baron\\nFunke', 'Anatole']\n",
      "['Anna\\nPavlovna Scherer', 'Empress Marya\\nFedorovna', 'Prince Vasili Kuragin']\n",
      "['Dowager Empress Marya Fedorovna', 'Baron\\nFunke', 'Anatole']\n"
     ]
    }
   ],
   "source": [
    "url = 'http://www.pythonscraping.com/pages/warandpeace.html'\n",
    "html = urlopen(url)\n",
    "obj = BeautifulSoup(html, 'html.parser')\n",
    "nameList = obj.findAll('span', {'class': 'green'}) # Scraping all text in tag span, with class='green'\n",
    "\n",
    "# Simpan text di dalam sebuah list 'namelist'\n",
    "namelist = [name.get_text() for name in nameList]\n",
    "\n",
    "# Dari list tersebut kemudian ambil text yang bersifat unik saja\n",
    "uniquename = list(set(namelist))\n",
    "\n",
    "print(namelist[:3])\n",
    "print(uniquename[:3])\n",
    "\n",
    "print(namelist[:3])\n",
    "print(uniquename[:3])\n",
    "\n",
    "# Output yang seharusnya:\n",
    "# ['Anna\\nPavlovna Scherer', 'Empress Marya\\nFedorovna', 'Prince Vasili Kuragin']\n",
    "# ['The prince', 'Anna Pavlovna', 'the Empress']"
   ]
  },
  {
   "cell_type": "code",
   "execution_count": 14,
   "metadata": {},
   "outputs": [
    {
     "name": "stdout",
     "output_type": "stream",
     "text": [
      "['Anna Pavlovna Scherer', 'Empress Marya Fedorovna', 'Prince Vasili Kuragin']\n"
     ]
    }
   ],
   "source": [
    "# Hapus karakter \"\\n\" yang terdapat di dalam 'namelist'\n",
    "namelist = [name.get_text().replace('\\n', ' ') for name in nameList]\n",
    "\n",
    "\n",
    "\n",
    "print(namelist[:3])\n",
    "\n",
    "# Output yang seharusnya:\n",
    "# ['Anna Pavlovna Scherer', 'Empress Marya Fedorovna', 'Prince Vasili Kuragin']"
   ]
  },
  {
   "cell_type": "code",
   "execution_count": 15,
   "metadata": {},
   "outputs": [
    {
     "name": "stdout",
     "output_type": "stream",
     "text": [
      "['Anatole', 'Rohans']\n"
     ]
    }
   ],
   "source": [
    "# Di dalam objek 'uniquename', print nama yang panjangnya tidak lebih dari 8 karakter\n",
    "filtered = filter(lambda name: len(name) < 9 , uniquename)\n",
    "result_list = list(filtered)\n",
    "print(result_list)\n",
    "    \n",
    "# Output yang seharusnya:\n",
    "# ['Anatole', 'Rohans']"
   ]
  },
  {
   "cell_type": "code",
   "execution_count": null,
   "metadata": {},
   "outputs": [],
   "source": []
  }
 ],
 "metadata": {
  "kernelspec": {
   "display_name": "Python 3",
   "language": "python",
   "name": "python3"
  },
  "language_info": {
   "codemirror_mode": {
    "name": "ipython",
    "version": 3
   },
   "file_extension": ".py",
   "mimetype": "text/x-python",
   "name": "python",
   "nbconvert_exporter": "python",
   "pygments_lexer": "ipython3",
   "version": "3.8.2"
  }
 },
 "nbformat": 4,
 "nbformat_minor": 4
}
