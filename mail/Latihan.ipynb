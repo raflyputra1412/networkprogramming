{
 "cells": [
  {
   "cell_type": "code",
   "execution_count": 5,
   "metadata": {},
   "outputs": [],
   "source": [
    "#Muhammad Rafly Hersa Putra\n",
    "#170010009\n",
    "\n",
    "import getpass\n",
    "import poplib\n",
    "import imaplib"
   ]
  },
  {
   "cell_type": "code",
   "execution_count": 6,
   "metadata": {},
   "outputs": [],
   "source": [
    "IMAP_SERVER = 'imap.gmail.com'\n",
    "IMAP_PORT = 993\n",
    "\n",
    "POP_SERVER = 'pop.gmail.com'\n",
    "POP_PORT = 995\n",
    "\n",
    "\n",
    "def imap_mail(username): \n",
    "        mailbox = imaplib.IMAP4_SSL(IMAP_SERVER, IMAP_PORT) \n",
    "        password = getpass.getpass(prompt='Enter your email password: ') \n",
    "        mailbox.login(username[0], password)\n",
    "        mailbox.select('Inbox')\n",
    "        typ, data = mailbox.search(None, 'ALL')\n",
    "        for num in data[0].split():\n",
    "            typ, data = mailbox.fetch(num, '(RFC822)')\n",
    "            print ('Message %s\\n%s\\n' % (num, data[0][1]))\n",
    "            break\n",
    "        mailbox.close()\n",
    "        mailbox.logout()\n",
    "    \n",
    "def pop_mail(username):\n",
    "        mailbox = poplib.POP3_SSL(POP_SERVER, POP_PORT) \n",
    "        mailbox.user(username[0])\n",
    "        password = getpass.getpass(prompt='Enter your email password: ') \n",
    "        mailbox.pass_(password) \n",
    "        num_messages = len(mailbox.list()[1])\n",
    "        print ('Total emails: {}'.format(num_messages))\n",
    "        mailbox.quit()"
   ]
  },
  {
   "cell_type": "markdown",
   "metadata": {},
   "source": [
    "Buatlah sebuah fungsi yang dapat menggabungkan fungsionalitas fungsi `imap_mail()` dan `pop_mail()`"
   ]
  },
  {
   "cell_type": "code",
   "execution_count": 7,
   "metadata": {},
   "outputs": [],
   "source": [
    "def mail(username, protocol, IMAP_SERVER, POP_SERVER, IMAP_PORT, POP_PORT):\n",
    "    data = [username, protocol, IMAP_SERVER, POP_SERVER, IMAP_PORT, POP_PORT]\n",
    "    if(protocol == 1):\n",
    "        imap_mail(data)\n",
    "        \n",
    "    elif(protocol == 2):\n",
    "        pop_mail(data)"
   ]
  },
  {
   "cell_type": "markdown",
   "metadata": {},
   "source": [
    "Panggil fungsi `mail()` di bawah ini:"
   ]
  },
  {
   "cell_type": "code",
   "execution_count": 8,
   "metadata": {},
   "outputs": [
    {
     "name": "stdout",
     "output_type": "stream",
     "text": [
      "input email: raflyputra68@gmail.com\n",
      "type 1 for imap or type 2 for pop3.\n",
      "protocol: 2\n",
      "Enter your email password: ········\n",
      "Total emails: 282\n"
     ]
    }
   ],
   "source": [
    "username = input(\"input email: \")\n",
    "try:\n",
    "    print(\"type 1 for imap or type 2 for pop3.\")\n",
    "    protocol = int(input(\"protocol: \"))    \n",
    "except:\n",
    "    print(\"hmm there is something wrong here...\")\n",
    "mail(username, protocol, IMAP_SERVER, POP_SERVER, IMAP_PORT, POP_PORT)"
   ]
  },
  {
   "cell_type": "code",
   "execution_count": null,
   "metadata": {},
   "outputs": [],
   "source": []
  },
  {
   "cell_type": "markdown",
   "metadata": {},
   "source": []
  }
 ],
 "metadata": {
  "kernelspec": {
   "display_name": "Python 3",
   "language": "python",
   "name": "python3"
  },
  "language_info": {
   "codemirror_mode": {
    "name": "ipython",
    "version": 3
   },
   "file_extension": ".py",
   "mimetype": "text/x-python",
   "name": "python",
   "nbconvert_exporter": "python",
   "pygments_lexer": "ipython3",
   "version": "3.8.2"
  }
 },
 "nbformat": 4,
 "nbformat_minor": 4
}
